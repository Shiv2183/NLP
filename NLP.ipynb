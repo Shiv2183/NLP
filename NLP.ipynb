{
  "nbformat": 4,
  "nbformat_minor": 0,
  "metadata": {
    "colab": {
      "name": "NLP.ipynb",
      "provenance": [],
      "include_colab_link": true
    },
    "kernelspec": {
      "display_name": "Python 3",
      "name": "python3"
    }
  },
  "cells": [
    {
      "cell_type": "markdown",
      "metadata": {
        "id": "view-in-github",
        "colab_type": "text"
      },
      "source": [
        "<a href=\"https://colab.research.google.com/github/Shiv2183/NLP/blob/main/NLP.ipynb\" target=\"_parent\"><img src=\"https://colab.research.google.com/assets/colab-badge.svg\" alt=\"Open In Colab\"/></a>"
      ]
    },
    {
      "cell_type": "markdown",
      "metadata": {
        "id": "H9VddoTeCmhU"
      },
      "source": [
        "# NLP\r\n",
        "\r\n",
        "The objective is:\r\n",
        "1. Understand the basic NLP algorithms\r\n",
        "2. Build the code base\r\n",
        "3. Use the understanding to buid application for Influencer Marketing Analytics.\r\n",
        "\r\n",
        "Corpus Creation\r\n",
        "1. Current corpus creation is from Amazon Electronics Reviews\r\n",
        "\r\n",
        "\r\n",
        "Future Work\r\n",
        "1. Speech to Text from Top N (N=5) youtube india influencers."
      ]
    },
    {
      "cell_type": "markdown",
      "metadata": {
        "id": "iKpRXHfYNpPh"
      },
      "source": [
        "# Corpus"
      ]
    },
    {
      "cell_type": "code",
      "metadata": {
        "id": "SOGzjw9C6IUf",
        "colab": {
          "base_uri": "https://localhost:8080/"
        },
        "outputId": "ea36b73a-ee76-40ff-c11c-96b3e0558813"
      },
      "source": [
        "import pandas as pd\r\n",
        "import numpy as np\r\n",
        "\r\n",
        "import nltk\r\n",
        "nltk.download('punkt')\r\n",
        "\r\n",
        "from time import sleep\r\n",
        "from tqdm import tqdm\r\n",
        "import string\r\n",
        "\r\n",
        "from keras.preprocessing.text import Tokenizer"
      ],
      "execution_count": 6,
      "outputs": [
        {
          "output_type": "stream",
          "text": [
            "[nltk_data] Downloading package punkt to /root/nltk_data...\n",
            "[nltk_data]   Package punkt is already up-to-date!\n"
          ],
          "name": "stdout"
        }
      ]
    },
    {
      "cell_type": "code",
      "metadata": {
        "colab": {
          "base_uri": "https://localhost:8080/",
          "height": 340
        },
        "id": "Wwy1KOs_Nvho",
        "outputId": "820feef1-e5ae-4df8-b372-510eb6e22ad3"
      },
      "source": [
        "#----JSON Path\r\n",
        "electronics_path = \"https://www.cs.odu.edu/~hpendyal/courses/cs620/project/dataset/Electronics_5.json\"\r\n",
        "\r\n",
        "#---- Reading Electronics data\r\n",
        "print('-> Started Loading Data')\r\n",
        "Electronics = pd.read_json(electronics_path, lines=True)\r\n",
        "print('-> Total reviews : ',Electronics.reviewText.count())\r\n",
        "print(\"Data Loading completed in \")\r\n",
        "\r\n",
        "#----Check Data\r\n",
        "Electronics.head()"
      ],
      "execution_count": 2,
      "outputs": [
        {
          "output_type": "stream",
          "text": [
            "-> Started Loading Data\n",
            "-> Total reviews :  1689188\n",
            "Data Loading completed in \n"
          ],
          "name": "stdout"
        },
        {
          "output_type": "execute_result",
          "data": {
            "text/html": [
              "<div>\n",
              "<style scoped>\n",
              "    .dataframe tbody tr th:only-of-type {\n",
              "        vertical-align: middle;\n",
              "    }\n",
              "\n",
              "    .dataframe tbody tr th {\n",
              "        vertical-align: top;\n",
              "    }\n",
              "\n",
              "    .dataframe thead th {\n",
              "        text-align: right;\n",
              "    }\n",
              "</style>\n",
              "<table border=\"1\" class=\"dataframe\">\n",
              "  <thead>\n",
              "    <tr style=\"text-align: right;\">\n",
              "      <th></th>\n",
              "      <th>reviewerID</th>\n",
              "      <th>asin</th>\n",
              "      <th>reviewerName</th>\n",
              "      <th>helpful</th>\n",
              "      <th>reviewText</th>\n",
              "      <th>overall</th>\n",
              "      <th>summary</th>\n",
              "      <th>unixReviewTime</th>\n",
              "      <th>reviewTime</th>\n",
              "    </tr>\n",
              "  </thead>\n",
              "  <tbody>\n",
              "    <tr>\n",
              "      <th>0</th>\n",
              "      <td>AO94DHGC771SJ</td>\n",
              "      <td>0528881469</td>\n",
              "      <td>amazdnu</td>\n",
              "      <td>[0, 0]</td>\n",
              "      <td>We got this GPS for my husband who is an (OTR)...</td>\n",
              "      <td>5</td>\n",
              "      <td>Gotta have GPS!</td>\n",
              "      <td>1370131200</td>\n",
              "      <td>06 2, 2013</td>\n",
              "    </tr>\n",
              "    <tr>\n",
              "      <th>1</th>\n",
              "      <td>AMO214LNFCEI4</td>\n",
              "      <td>0528881469</td>\n",
              "      <td>Amazon Customer</td>\n",
              "      <td>[12, 15]</td>\n",
              "      <td>I'm a professional OTR truck driver, and I bou...</td>\n",
              "      <td>1</td>\n",
              "      <td>Very Disappointed</td>\n",
              "      <td>1290643200</td>\n",
              "      <td>11 25, 2010</td>\n",
              "    </tr>\n",
              "    <tr>\n",
              "      <th>2</th>\n",
              "      <td>A3N7T0DY83Y4IG</td>\n",
              "      <td>0528881469</td>\n",
              "      <td>C. A. Freeman</td>\n",
              "      <td>[43, 45]</td>\n",
              "      <td>Well, what can I say.  I've had this unit in m...</td>\n",
              "      <td>3</td>\n",
              "      <td>1st impression</td>\n",
              "      <td>1283990400</td>\n",
              "      <td>09 9, 2010</td>\n",
              "    </tr>\n",
              "    <tr>\n",
              "      <th>3</th>\n",
              "      <td>A1H8PY3QHMQQA0</td>\n",
              "      <td>0528881469</td>\n",
              "      <td>Dave M. Shaw \"mack dave\"</td>\n",
              "      <td>[9, 10]</td>\n",
              "      <td>Not going to write a long review, even thought...</td>\n",
              "      <td>2</td>\n",
              "      <td>Great grafics, POOR GPS</td>\n",
              "      <td>1290556800</td>\n",
              "      <td>11 24, 2010</td>\n",
              "    </tr>\n",
              "    <tr>\n",
              "      <th>4</th>\n",
              "      <td>A24EV6RXELQZ63</td>\n",
              "      <td>0528881469</td>\n",
              "      <td>Wayne Smith</td>\n",
              "      <td>[0, 0]</td>\n",
              "      <td>I've had mine for a year and here's what we go...</td>\n",
              "      <td>1</td>\n",
              "      <td>Major issues, only excuses for support</td>\n",
              "      <td>1317254400</td>\n",
              "      <td>09 29, 2011</td>\n",
              "    </tr>\n",
              "  </tbody>\n",
              "</table>\n",
              "</div>"
            ],
            "text/plain": [
              "       reviewerID        asin  ... unixReviewTime   reviewTime\n",
              "0   AO94DHGC771SJ  0528881469  ...     1370131200   06 2, 2013\n",
              "1   AMO214LNFCEI4  0528881469  ...     1290643200  11 25, 2010\n",
              "2  A3N7T0DY83Y4IG  0528881469  ...     1283990400   09 9, 2010\n",
              "3  A1H8PY3QHMQQA0  0528881469  ...     1290556800  11 24, 2010\n",
              "4  A24EV6RXELQZ63  0528881469  ...     1317254400  09 29, 2011\n",
              "\n",
              "[5 rows x 9 columns]"
            ]
          },
          "metadata": {
            "tags": []
          },
          "execution_count": 2
        }
      ]
    },
    {
      "cell_type": "code",
      "metadata": {
        "id": "Cdvte_NSOkE7"
      },
      "source": [
        "def clean_text(txt):\r\n",
        "    txt = \"\".join(v for v in txt if v not in string.punctuation).lower()\r\n",
        "    txt = txt.encode(\"utf8\").decode(\"ascii\",'ignore')\r\n",
        "    return txt "
      ],
      "execution_count": 3,
      "outputs": []
    },
    {
      "cell_type": "code",
      "metadata": {
        "colab": {
          "base_uri": "https://localhost:8080/"
        },
        "id": "BdGlcZTMFLWM",
        "outputId": "18d3fa79-fb42-4631-930c-79c05bd6acdd"
      },
      "source": [
        "#---- Creating Corpus\r\n",
        "n=100\r\n",
        "# Step 1 - Breaking each review in sentences.\r\n",
        "# Step 2 - Appending sentences to create a list of senteneces i.e. Corpus\r\n",
        "corpus =[]\r\n",
        "for review in tqdm(Electronics['reviewText'][:n]):\r\n",
        "  #review = clean_text(review)\r\n",
        "  sent_text = nltk.sent_tokenize(review)\r\n",
        "  #print(sent_text)\r\n",
        "  corpus = corpus + [clean_text(text) for text in sent_text]\r\n",
        "  #corpus = corpus + sent_text\r\n",
        "  sleep(5)\r\n",
        "print('-> Total lenngth of sentences', len(corpus))"
      ],
      "execution_count": 4,
      "outputs": [
        {
          "output_type": "stream",
          "text": [
            "100%|██████████| 100/100 [08:20<00:00,  5.01s/it]"
          ],
          "name": "stderr"
        },
        {
          "output_type": "stream",
          "text": [
            "-> Total lenngth of sentences 515\n"
          ],
          "name": "stdout"
        },
        {
          "output_type": "stream",
          "text": [
            "\n"
          ],
          "name": "stderr"
        }
      ]
    },
    {
      "cell_type": "code",
      "metadata": {
        "colab": {
          "base_uri": "https://localhost:8080/"
        },
        "id": "Q0KclcxoK50b",
        "outputId": "447fa612-7b5b-499c-c953-c7ebc5dcae7e"
      },
      "source": [
        "#----Check Corpus\r\n",
        "corpus[:10]"
      ],
      "execution_count": 8,
      "outputs": [
        {
          "output_type": "execute_result",
          "data": {
            "text/plain": [
              "['we got this gps for my husband who is an otr over the road trucker',\n",
              " 'very impressed with the shipping time it arrived a few days earlier than expected  within a week of use however it started freezing up could of just been a glitch in that unit',\n",
              " 'worked great when it worked',\n",
              " 'will work great for the normal person as well but does have the trucker option',\n",
              " 'the big truck routes  tells you when a scale is coming up ect  love the bigger screen the ease of use the ease of putting addresses into memory',\n",
              " 'nothing really bad to say about the unit with the exception of it freezing which is probably one in a million and thats just my luck',\n",
              " 'i contacted the seller and within minutes of my email i received a email back with instructions for an exchange',\n",
              " 'very impressed all the way around',\n",
              " 'im a professional otr truck driver and i bought a tnd 700 at a truck stop hoping to make my life easier',\n",
              " 'rand mcnally are you listeningfirst thing i did after charging it was connect it to my laptop and install the software and then attempt to update it']"
            ]
          },
          "metadata": {
            "tags": []
          },
          "execution_count": 8
        }
      ]
    },
    {
      "cell_type": "code",
      "metadata": {
        "id": "_JCH8CK_ezE9",
        "outputId": "c5b74ac9-2baa-494d-ab81-b70db2a3164d",
        "colab": {
          "base_uri": "https://localhost:8080/"
        }
      },
      "source": [
        "tokenizer = Tokenizer()\r\n",
        "\r\n",
        "def get_sequence_of_tokens(corpus):\r\n",
        "    ## tokenization\r\n",
        "    tokenizer.fit_on_texts(corpus)\r\n",
        "    total_words = len(tokenizer.word_index) + 1\r\n",
        "    \r\n",
        "    ## convert data to sequence of tokens \r\n",
        "    input_sequences = []\r\n",
        "    for line in tqdm(corpus):\r\n",
        "        token_list = tokenizer.texts_to_sequences([line])[0]\r\n",
        "        for i in range(1, len(token_list)):\r\n",
        "            n_gram_sequence = token_list[:i+1]\r\n",
        "            input_sequences.append(n_gram_sequence)\r\n",
        "        sleep(5)\r\n",
        "    return input_sequences, total_words\r\n",
        "\r\n",
        "inp_sequences, total_words = get_sequence_of_tokens(corpus)\r\n",
        "inp_sequences[:10]"
      ],
      "execution_count": null,
      "outputs": [
        {
          "output_type": "stream",
          "text": [
            " 11%|█         | 57/515 [04:45<38:12,  5.01s/it]"
          ],
          "name": "stderr"
        }
      ]
    },
    {
      "cell_type": "markdown",
      "metadata": {
        "id": "wRKvueCUQ99C"
      },
      "source": [
        "# Tutorial\r\n",
        "1. Word Embedding"
      ]
    },
    {
      "cell_type": "markdown",
      "metadata": {
        "id": "PDJyCwvRNb0f"
      },
      "source": [
        "2. Named Entity Recognition"
      ]
    },
    {
      "cell_type": "markdown",
      "metadata": {
        "id": "yD_fhU5oNgCp"
      },
      "source": [
        "3. RNN"
      ]
    },
    {
      "cell_type": "markdown",
      "metadata": {
        "id": "GfhE8jbBNi5K"
      },
      "source": [
        "4. LSTM"
      ]
    },
    {
      "cell_type": "markdown",
      "metadata": {
        "id": "6Y7MBLIpsmhi"
      },
      "source": [
        "# Social Media Influencer Analytics\r\n",
        "# Objective 1 - Unstructured Data to Structured Data\r\n",
        "1. Convert speech to text. - \r\n",
        "a. converting sound to txt\r\n",
        "b. Entity Recognition for tagging\r\n",
        "2. Convert images to objects - Time in seconds an object is displayed in the video\r\n",
        "3. Positive/Negative Reviews - Entity Recognition\r\n",
        "\r\n",
        "#Objective 2 -Club data with youtube impressions data"
      ]
    },
    {
      "cell_type": "markdown",
      "metadata": {
        "id": "l-VrA0lEsllz"
      },
      "source": [
        ""
      ]
    }
  ]
}